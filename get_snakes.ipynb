{
 "cells": [
  {
   "cell_type": "code",
   "execution_count": 35,
   "id": "4a07f12d-207d-4e1d-aaf9-65f389dbff8e",
   "metadata": {},
   "outputs": [],
   "source": [
    "import requests\n",
    "from bs4 import BeautifulSoup\n",
    "import json\n",
    "import os"
   ]
  },
  {
   "cell_type": "code",
   "execution_count": 2,
   "id": "86ac9c93-f0d4-4c94-b27a-2790758a0a2c",
   "metadata": {},
   "outputs": [],
   "source": [
    "def get_snakes(no_of_pages, path):\n",
    "    test_list = dict()\n",
    "    for i in no_of_pages:\n",
    "        if i == 1:\n",
    "            response = requests.get(path)  \n",
    "        else:\n",
    "            response = requests.get(path + f'page/{i}/')\n",
    "        if response.status_code == 200:\n",
    "            soup = BeautifulSoup(response.text, 'html.parser')  \n",
    "        else:\n",
    "            print(f\"Error: Unable to fetch the content:{response.status_code}\")\n",
    "        snake_article = soup.find_all('article')\n",
    "        for article in snake_article:\n",
    "            snake_name = article.div.h2.text.removeprefix('\\n').removesuffix('\\n')\n",
    "            if article.div.p:\n",
    "                snake_description = article.div.p.text\n",
    "            else:\n",
    "                snake_description = \"Description not available.\" \n",
    "            test_list[snake_name] = {'description': snake_description, 'type': 'None'}\n",
    "    return test_list"
   ]
  },
  {
   "cell_type": "code",
   "execution_count": 3,
   "id": "c5f1e23c-e6a2-4c24-af91-f86961ea3432",
   "metadata": {},
   "outputs": [],
   "source": [
    "southern_african_main_link = 'https://www.africansnakebiteinstitute.com/category/snakes/southern-african-snakes/'\n",
    "african_main_link = 'https://www.africansnakebiteinstitute.com/category/snakes/african-snakes/'"
   ]
  },
  {
   "cell_type": "code",
   "execution_count": 4,
   "id": "a9d1468a-4cf0-47ed-a213-10094a5197ae",
   "metadata": {},
   "outputs": [],
   "source": [
    "southern_african_list = [x for x in range(1, 13)]\n",
    "african_list = [x for x in range(1, 5)]"
   ]
  },
  {
   "cell_type": "code",
   "execution_count": 5,
   "id": "ce7747f2-69ec-4cb5-b7b4-066bbc2bfb1e",
   "metadata": {},
   "outputs": [],
   "source": [
    "southern_snake_dict = get_snakes(southern_african_list, southern_african_main_link)"
   ]
  },
  {
   "cell_type": "code",
   "execution_count": 6,
   "id": "5501d322-3cd2-4a13-91bf-f00150de4d77",
   "metadata": {},
   "outputs": [],
   "source": [
    "african_snake_dict = get_snakes(african_list, african_main_link)"
   ]
  },
  {
   "cell_type": "code",
   "execution_count": 7,
   "id": "2c8a645a-a53f-45b5-925d-e9f044af3e37",
   "metadata": {},
   "outputs": [
    {
     "data": {
      "text/plain": [
       "(117, 38)"
      ]
     },
     "execution_count": 7,
     "metadata": {},
     "output_type": "execute_result"
    }
   ],
   "source": [
    "len(southern_snake_dict), len(african_snake_dict)"
   ]
  },
  {
   "cell_type": "code",
   "execution_count": 8,
   "id": "85fcd305-7c0f-4ca2-916d-cf94d7c3dad8",
   "metadata": {},
   "outputs": [],
   "source": [
    "snake_dict = {**southern_snake_dict, **african_snake_dict}"
   ]
  },
  {
   "cell_type": "code",
   "execution_count": 9,
   "id": "a4a8a8c9-20ff-4a03-b68f-93d0a0e0ddcd",
   "metadata": {},
   "outputs": [],
   "source": [
    "snake_names = list()\n",
    "for key in snake_dict.keys():\n",
    "    snake_names.append(key)"
   ]
  },
  {
   "cell_type": "code",
   "execution_count": 10,
   "id": "67a7f0d1-0574-4c04-a733-b3ef7227cf1d",
   "metadata": {},
   "outputs": [
    {
     "data": {
      "text/plain": [
       "134"
      ]
     },
     "execution_count": 10,
     "metadata": {},
     "output_type": "execute_result"
    }
   ],
   "source": [
    "len(snake_dict)"
   ]
  },
  {
   "cell_type": "code",
   "execution_count": 13,
   "id": "9bbfed52-7ca5-4973-99c8-6f7001974e09",
   "metadata": {},
   "outputs": [
    {
     "data": {
      "text/plain": [
       "134"
      ]
     },
     "execution_count": 13,
     "metadata": {},
     "output_type": "execute_result"
    }
   ],
   "source": [
    "len(snake_names)"
   ]
  },
  {
   "cell_type": "code",
   "execution_count": 14,
   "id": "4fb7cf65-d63d-4c1f-9e0f-74a091bcbd7d",
   "metadata": {},
   "outputs": [
    {
     "name": "stdout",
     "output_type": "stream",
     "text": [
      "Venomous Snakes: 24\n",
      "Non-Venomous Snakes: 110\n",
      "134\n"
     ]
    }
   ],
   "source": [
    "venomous_snakes = ['Anchieta’s Cobra', 'Black Mamba', 'Black Spitting Cobra', 'Black-necked Spitting Cobra',\n",
    "                   'Boomslang', 'Brown Forest Cobra', 'Cape Cobra', 'Gaboon Adder', 'Green Mamba',\n",
    "                   'Mozambique Spitting Cobra', 'Puff Adder', 'Rinkhals', 'Snouted Cobra', 'Zebra Cobra',\n",
    "                   'Egyptian Cobra', 'Forest Cobra', 'Jameson’s Mamba', 'Red Spitting Cobra', 'Rhino-horned Viper',\n",
    "                   'Saharan Horned Viper', 'Saharan Sand Viper', 'West African Carpet Viper', 'Western Gaboon Adder',\n",
    "                   'Western Green Mamba']\n",
    "\n",
    "non_venomous_snakes = [snake for snake in snake_names if snake not in venomous_snakes]\n",
    "\n",
    "print(\"Venomous Snakes:\", len(venomous_snakes))\n",
    "print(\"Non-Venomous Snakes:\", len(non_venomous_snakes))\n",
    "print(len(venomous_snakes+non_venomous_snakes))"
   ]
  },
  {
   "cell_type": "code",
   "execution_count": 22,
   "id": "e20674a1-ae58-41fb-bf64-7677aa67e40f",
   "metadata": {},
   "outputs": [],
   "source": [
    "for name in snake_dict.keys():\n",
    "    if name in venomous_snakes:\n",
    "        snake_dict[name]['type'] = 'Venomous'\n",
    "    else:\n",
    "        snake_dict[name]['type'] = 'Non Venomous' "
   ]
  },
  {
   "cell_type": "code",
   "execution_count": 29,
   "id": "cefeb76d-c4c7-482f-9110-47c58186c955",
   "metadata": {},
   "outputs": [
    {
     "data": {
      "text/plain": [
       "('Non Venomous', 'Venomous')"
      ]
     },
     "execution_count": 29,
     "metadata": {},
     "output_type": "execute_result"
    }
   ],
   "source": [
    "snake_dict['Albany Adder']['type'], snake_dict['Black Mamba']['type'] "
   ]
  },
  {
   "cell_type": "code",
   "execution_count": 36,
   "id": "b2177fa5-ad88-4168-b766-816802b5ad14",
   "metadata": {},
   "outputs": [
    {
     "name": "stdout",
     "output_type": "stream",
     "text": [
      "file already present\n"
     ]
    }
   ],
   "source": [
    "if os.path.exists('snake_dict.json'):\n",
    "    print('file already present')\n",
    "else:\n",
    "    with open('snake_dict.json', 'w') as json_file:\n",
    "        json.dump(snake_dict, json_file)"
   ]
  },
  {
   "cell_type": "code",
   "execution_count": null,
   "id": "6a0418c8-6ceb-4d8b-8849-937483313f6f",
   "metadata": {},
   "outputs": [],
   "source": []
  }
 ],
 "metadata": {
  "kernelspec": {
   "display_name": "Python 3 (ipykernel)",
   "language": "python",
   "name": "python3"
  },
  "language_info": {
   "codemirror_mode": {
    "name": "ipython",
    "version": 3
   },
   "file_extension": ".py",
   "mimetype": "text/x-python",
   "name": "python",
   "nbconvert_exporter": "python",
   "pygments_lexer": "ipython3",
   "version": "3.10.6"
  }
 },
 "nbformat": 4,
 "nbformat_minor": 5
}
